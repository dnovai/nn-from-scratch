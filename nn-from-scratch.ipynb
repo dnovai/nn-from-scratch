{
 "cells": [
  {
   "cell_type": "code",
   "execution_count": 1,
   "metadata": {
    "collapsed": true,
    "pycharm": {
     "name": "#%%\n"
    }
   },
   "outputs": [],
   "source": [
    "import numpy as np\n",
    "import pandas as pd\n",
    "from matplotlib import pyplot as plt\n",
    "\n",
    "data = pd.read_csv('./data/train.csv')"
   ]
  },
  {
   "cell_type": "code",
   "execution_count": 2,
   "outputs": [
    {
     "data": {
      "text/plain": "   label  pixel0  pixel1  pixel2  pixel3  pixel4  pixel5  pixel6  pixel7  \\\n0      1       0       0       0       0       0       0       0       0   \n1      0       0       0       0       0       0       0       0       0   \n2      1       0       0       0       0       0       0       0       0   \n3      4       0       0       0       0       0       0       0       0   \n4      0       0       0       0       0       0       0       0       0   \n\n   pixel8  ...  pixel774  pixel775  pixel776  pixel777  pixel778  pixel779  \\\n0       0  ...         0         0         0         0         0         0   \n1       0  ...         0         0         0         0         0         0   \n2       0  ...         0         0         0         0         0         0   \n3       0  ...         0         0         0         0         0         0   \n4       0  ...         0         0         0         0         0         0   \n\n   pixel780  pixel781  pixel782  pixel783  \n0         0         0         0         0  \n1         0         0         0         0  \n2         0         0         0         0  \n3         0         0         0         0  \n4         0         0         0         0  \n\n[5 rows x 785 columns]",
      "text/html": "<div>\n<style scoped>\n    .dataframe tbody tr th:only-of-type {\n        vertical-align: middle;\n    }\n\n    .dataframe tbody tr th {\n        vertical-align: top;\n    }\n\n    .dataframe thead th {\n        text-align: right;\n    }\n</style>\n<table border=\"1\" class=\"dataframe\">\n  <thead>\n    <tr style=\"text-align: right;\">\n      <th></th>\n      <th>label</th>\n      <th>pixel0</th>\n      <th>pixel1</th>\n      <th>pixel2</th>\n      <th>pixel3</th>\n      <th>pixel4</th>\n      <th>pixel5</th>\n      <th>pixel6</th>\n      <th>pixel7</th>\n      <th>pixel8</th>\n      <th>...</th>\n      <th>pixel774</th>\n      <th>pixel775</th>\n      <th>pixel776</th>\n      <th>pixel777</th>\n      <th>pixel778</th>\n      <th>pixel779</th>\n      <th>pixel780</th>\n      <th>pixel781</th>\n      <th>pixel782</th>\n      <th>pixel783</th>\n    </tr>\n  </thead>\n  <tbody>\n    <tr>\n      <th>0</th>\n      <td>1</td>\n      <td>0</td>\n      <td>0</td>\n      <td>0</td>\n      <td>0</td>\n      <td>0</td>\n      <td>0</td>\n      <td>0</td>\n      <td>0</td>\n      <td>0</td>\n      <td>...</td>\n      <td>0</td>\n      <td>0</td>\n      <td>0</td>\n      <td>0</td>\n      <td>0</td>\n      <td>0</td>\n      <td>0</td>\n      <td>0</td>\n      <td>0</td>\n      <td>0</td>\n    </tr>\n    <tr>\n      <th>1</th>\n      <td>0</td>\n      <td>0</td>\n      <td>0</td>\n      <td>0</td>\n      <td>0</td>\n      <td>0</td>\n      <td>0</td>\n      <td>0</td>\n      <td>0</td>\n      <td>0</td>\n      <td>...</td>\n      <td>0</td>\n      <td>0</td>\n      <td>0</td>\n      <td>0</td>\n      <td>0</td>\n      <td>0</td>\n      <td>0</td>\n      <td>0</td>\n      <td>0</td>\n      <td>0</td>\n    </tr>\n    <tr>\n      <th>2</th>\n      <td>1</td>\n      <td>0</td>\n      <td>0</td>\n      <td>0</td>\n      <td>0</td>\n      <td>0</td>\n      <td>0</td>\n      <td>0</td>\n      <td>0</td>\n      <td>0</td>\n      <td>...</td>\n      <td>0</td>\n      <td>0</td>\n      <td>0</td>\n      <td>0</td>\n      <td>0</td>\n      <td>0</td>\n      <td>0</td>\n      <td>0</td>\n      <td>0</td>\n      <td>0</td>\n    </tr>\n    <tr>\n      <th>3</th>\n      <td>4</td>\n      <td>0</td>\n      <td>0</td>\n      <td>0</td>\n      <td>0</td>\n      <td>0</td>\n      <td>0</td>\n      <td>0</td>\n      <td>0</td>\n      <td>0</td>\n      <td>...</td>\n      <td>0</td>\n      <td>0</td>\n      <td>0</td>\n      <td>0</td>\n      <td>0</td>\n      <td>0</td>\n      <td>0</td>\n      <td>0</td>\n      <td>0</td>\n      <td>0</td>\n    </tr>\n    <tr>\n      <th>4</th>\n      <td>0</td>\n      <td>0</td>\n      <td>0</td>\n      <td>0</td>\n      <td>0</td>\n      <td>0</td>\n      <td>0</td>\n      <td>0</td>\n      <td>0</td>\n      <td>0</td>\n      <td>...</td>\n      <td>0</td>\n      <td>0</td>\n      <td>0</td>\n      <td>0</td>\n      <td>0</td>\n      <td>0</td>\n      <td>0</td>\n      <td>0</td>\n      <td>0</td>\n      <td>0</td>\n    </tr>\n  </tbody>\n</table>\n<p>5 rows × 785 columns</p>\n</div>"
     },
     "execution_count": 2,
     "metadata": {},
     "output_type": "execute_result"
    }
   ],
   "source": [
    "data.head()"
   ],
   "metadata": {
    "collapsed": false,
    "pycharm": {
     "name": "#%%\n"
    }
   }
  },
  {
   "cell_type": "code",
   "execution_count": 3,
   "outputs": [],
   "source": [
    "data = np.array(data)\n",
    "m, n = data.shape\n",
    "np.random.shuffle(data)\n",
    "\n",
    "# Conjunto de prueba\n",
    "data_test = data[0:1000].T\n",
    "Y_test = data_test[0]\n",
    "X_test = data_test[1:n]\n",
    "X_test = X_test / 255.\n",
    "\n",
    "# Conjunto de entrenamiento\n",
    "data_train = data[1000:m].T\n",
    "Y_train = data_train[0]\n",
    "X_train = data_train[1:n]\n",
    "X_train = X_train / 255. # X_train.reshape(X_train.shape[0],WIDTH*HEIGHT).T\n",
    "_,m_train = X_train.shape"
   ],
   "metadata": {
    "collapsed": false,
    "pycharm": {
     "name": "#%%\n"
    }
   }
  },
  {
   "cell_type": "code",
   "execution_count": 4,
   "outputs": [],
   "source": [
    "def init_params():\n",
    "    w1 = np.random.rand(10, 784) - 0.5\n",
    "    b1 = np.random.rand(10, 1) - 0.5\n",
    "    w2 = np.random.rand(10, 10) - 0.5\n",
    "    b2 = np.random.rand(10, 1) - 0.5\n",
    "    return w1, b1, w2, b2\n",
    "\n",
    "def relu(z):\n",
    "    return np.maximum(z, 0)\n",
    "\n",
    "def softmax(z):\n",
    "    return np.exp(z) / np.sum(z)\n",
    "\n",
    "def forward_prop(x, w1, b1, w2, b2):\n",
    "    z1 = w1.dot(x) + b1 # (10, m)\n",
    "    a1 = relu(z1) # (10, m)\n",
    "    z2 = w2.dot(a1) + b2 # (10, m)\n",
    "    a2 = softmax(z2) # (10, m)\n",
    "    return z1, a1, z2, a2\n",
    "\n",
    "def one_hot(y):\n",
    "    one_hot_y = np.zeros((y.max()+1,y.size))\n",
    "    one_hot_y[y,np.arange(y.size)] = 1\n",
    "    return one_hot_y\n",
    "\n",
    "def deriv_relu(z):\n",
    "    return z>0\n",
    "\n",
    "def back_prop(x, y, z1, a1, z2, a2, w2):\n",
    "    m = y.size\n",
    "    one_hot_y = one_hot(y)\n",
    "    dz2 = 2 * (a2 - one_hot_y) # (10, m)\n",
    "    dw2 = 1 / m * dz2.dot(a1.T) # (10, 10)\n",
    "    db2 = 1 / m * np.sum(dz2) # (10, 1)\n",
    "    dz1 = w2.T.dot(dz2) * deriv_relu(z1) # (10, m)\n",
    "    dw1 = 1 / m * dz1.dot(x.T) # (10, 784)\n",
    "    db1 = 1 / m * np.sum(dz1) # (10, 1)\n",
    "    return dw1, db1, dw2, db2\n",
    "\n",
    "def update_params(w1, b1, w2, b2, dw1, db2, dw2, db1, alpha):\n",
    "    w1 = w1 - alpha * dw1\n",
    "    b1 = b1 - alpha * db1\n",
    "    w2 = w2 - alpha * dw2\n",
    "    b2 = b2 - alpha * db2\n",
    "    return w1, b1, w2, b2\n"
   ],
   "metadata": {
    "collapsed": false,
    "pycharm": {
     "name": "#%%\n"
    }
   }
  },
  {
   "cell_type": "code",
   "execution_count": 5,
   "outputs": [],
   "source": [
    "def get_predictions(a2):\n",
    "    return np.argmax(a2, 0)\n",
    "\n",
    "def get_accuracy(predictions, y):\n",
    "    print(predictions, y)\n",
    "    return np.sum(predictions == y) / y.size\n",
    "\n",
    "def gradient_descent(x, y, alpha, iterations):\n",
    "    w1, b1, w2, b2 = init_params()\n",
    "    for i in range(iterations):\n",
    "        z1, a1, z2, a2 = forward_prop(x, w1, b1, w2, b2)\n",
    "        dw1, db1, dw2, db2 = back_prop(x, y, z1, a1, z2, a2, w2)\n",
    "        w1, b1, w2, b2 = update_params(w1, b1, w2, b2, dw1, db2, dw2, db1, alpha)\n",
    "        if i % 10 == 0:\n",
    "            print(f'Iteration: {i}')\n",
    "            print(f'Accuracy: {get_accuracy(get_predictions(a2), y)}')\n",
    "    return w1, b1, w2, b2"
   ],
   "metadata": {
    "collapsed": false,
    "pycharm": {
     "name": "#%%\n"
    }
   }
  },
  {
   "cell_type": "code",
   "execution_count": 6,
   "outputs": [
    {
     "name": "stdout",
     "output_type": "stream",
     "text": [
      "Iteration: 0\n",
      "[1 5 4 ... 7 4 4] [7 8 3 ... 7 3 4]\n",
      "Accuracy: 0.07085365853658536\n",
      "Iteration: 10\n",
      "[9 9 2 ... 8 8 2] [7 8 3 ... 7 3 4]\n",
      "Accuracy: 0.24148780487804877\n",
      "Iteration: 20\n",
      "[7 1 5 ... 1 8 6] [7 8 3 ... 7 3 4]\n",
      "Accuracy: 0.3362439024390244\n",
      "Iteration: 30\n",
      "[4 1 1 ... 1 8 2] [7 8 3 ... 7 3 4]\n",
      "Accuracy: 0.2889512195121951\n",
      "Iteration: 40\n",
      "[3 3 3 ... 1 3 2] [7 8 3 ... 7 3 4]\n",
      "Accuracy: 0.3470243902439024\n",
      "Iteration: 50\n",
      "[6 5 5 ... 9 5 6] [7 8 3 ... 7 3 4]\n",
      "Accuracy: 0.43353658536585366\n",
      "Iteration: 60\n",
      "[4 2 5 ... 9 3 6] [7 8 3 ... 7 3 4]\n",
      "Accuracy: 0.5654878048780487\n",
      "Iteration: 70\n",
      "[6 2 5 ... 7 0 6] [7 8 3 ... 7 3 4]\n",
      "Accuracy: 0.5156585365853659\n",
      "Iteration: 80\n",
      "[6 2 5 ... 9 0 6] [7 8 3 ... 7 3 4]\n",
      "Accuracy: 0.5338536585365854\n",
      "Iteration: 90\n",
      "[7 2 5 ... 9 3 6] [7 8 3 ... 7 3 4]\n",
      "Accuracy: 0.47192682926829266\n",
      "Iteration: 100\n",
      "[6 2 5 ... 9 8 6] [7 8 3 ... 7 3 4]\n",
      "Accuracy: 0.5231951219512195\n",
      "Iteration: 110\n",
      "[6 2 5 ... 9 8 6] [7 8 3 ... 7 3 4]\n",
      "Accuracy: 0.615\n",
      "Iteration: 120\n",
      "[7 2 5 ... 9 3 6] [7 8 3 ... 7 3 4]\n",
      "Accuracy: 0.6401463414634146\n",
      "Iteration: 130\n",
      "[6 2 3 ... 9 8 6] [7 8 3 ... 7 3 4]\n",
      "Accuracy: 0.6449024390243903\n",
      "Iteration: 140\n",
      "[6 2 3 ... 9 3 6] [7 8 3 ... 7 3 4]\n",
      "Accuracy: 0.6318292682926829\n",
      "Iteration: 150\n",
      "[7 2 3 ... 9 3 6] [7 8 3 ... 7 3 4]\n",
      "Accuracy: 0.6737073170731708\n",
      "Iteration: 160\n",
      "[6 8 3 ... 4 8 6] [7 8 3 ... 7 3 4]\n",
      "Accuracy: 0.6142926829268293\n",
      "Iteration: 170\n",
      "[7 2 3 ... 7 3 4] [7 8 3 ... 7 3 4]\n",
      "Accuracy: 0.6745365853658537\n",
      "Iteration: 180\n",
      "[7 2 3 ... 7 8 4] [7 8 3 ... 7 3 4]\n",
      "Accuracy: 0.6912926829268292\n",
      "Iteration: 190\n",
      "[7 2 3 ... 7 8 4] [7 8 3 ... 7 3 4]\n",
      "Accuracy: 0.7015365853658536\n",
      "Iteration: 200\n",
      "[7 2 3 ... 7 3 4] [7 8 3 ... 7 3 4]\n",
      "Accuracy: 0.7203170731707317\n",
      "Iteration: 210\n",
      "[7 2 3 ... 7 3 6] [7 8 3 ... 7 3 4]\n",
      "Accuracy: 0.7385853658536585\n",
      "Iteration: 220\n",
      "[7 2 3 ... 7 3 6] [7 8 3 ... 7 3 4]\n",
      "Accuracy: 0.7443414634146341\n",
      "Iteration: 230\n",
      "[7 2 3 ... 7 3 4] [7 8 3 ... 7 3 4]\n",
      "Accuracy: 0.7485365853658537\n",
      "Iteration: 240\n",
      "[7 8 3 ... 7 3 4] [7 8 3 ... 7 3 4]\n",
      "Accuracy: 0.7553414634146342\n",
      "Iteration: 250\n",
      "[7 8 3 ... 7 3 4] [7 8 3 ... 7 3 4]\n",
      "Accuracy: 0.7487317073170732\n",
      "Iteration: 260\n",
      "[7 8 3 ... 7 3 4] [7 8 3 ... 7 3 4]\n",
      "Accuracy: 0.7660975609756098\n",
      "Iteration: 270\n",
      "[7 8 3 ... 7 3 4] [7 8 3 ... 7 3 4]\n",
      "Accuracy: 0.7645609756097561\n",
      "Iteration: 280\n",
      "[7 8 3 ... 7 3 4] [7 8 3 ... 7 3 4]\n",
      "Accuracy: 0.7707073170731708\n",
      "Iteration: 290\n",
      "[7 8 3 ... 7 3 4] [7 8 3 ... 7 3 4]\n",
      "Accuracy: 0.7764146341463415\n",
      "Iteration: 300\n",
      "[7 8 3 ... 7 3 4] [7 8 3 ... 7 3 4]\n",
      "Accuracy: 0.7645121951219512\n",
      "Iteration: 310\n",
      "[7 8 3 ... 7 3 4] [7 8 3 ... 7 3 4]\n",
      "Accuracy: 0.7842926829268293\n",
      "Iteration: 320\n",
      "[7 8 3 ... 7 3 4] [7 8 3 ... 7 3 4]\n",
      "Accuracy: 0.7806585365853659\n",
      "Iteration: 330\n",
      "[7 8 3 ... 7 3 4] [7 8 3 ... 7 3 4]\n",
      "Accuracy: 0.7760975609756098\n",
      "Iteration: 340\n",
      "[7 8 3 ... 7 3 4] [7 8 3 ... 7 3 4]\n",
      "Accuracy: 0.7885609756097561\n",
      "Iteration: 350\n",
      "[7 8 3 ... 7 3 4] [7 8 3 ... 7 3 4]\n",
      "Accuracy: 0.7825853658536586\n",
      "Iteration: 360\n",
      "[7 8 3 ... 7 3 4] [7 8 3 ... 7 3 4]\n",
      "Accuracy: 0.7974634146341464\n",
      "Iteration: 370\n",
      "[7 8 3 ... 7 3 4] [7 8 3 ... 7 3 4]\n",
      "Accuracy: 0.7833414634146342\n",
      "Iteration: 380\n",
      "[7 8 3 ... 7 3 4] [7 8 3 ... 7 3 4]\n",
      "Accuracy: 0.7931707317073171\n",
      "Iteration: 390\n",
      "[7 8 3 ... 7 3 4] [7 8 3 ... 7 3 4]\n",
      "Accuracy: 0.7924634146341464\n",
      "Iteration: 400\n",
      "[7 8 3 ... 7 3 4] [7 8 3 ... 7 3 4]\n",
      "Accuracy: 0.7958048780487805\n",
      "Iteration: 410\n",
      "[7 8 3 ... 7 3 4] [7 8 3 ... 7 3 4]\n",
      "Accuracy: 0.7970975609756098\n",
      "Iteration: 420\n",
      "[7 8 3 ... 7 3 4] [7 8 3 ... 7 3 4]\n",
      "Accuracy: 0.8029268292682927\n",
      "Iteration: 430\n",
      "[7 8 3 ... 7 3 4] [7 8 3 ... 7 3 4]\n",
      "Accuracy: 0.8039268292682927\n",
      "Iteration: 440\n",
      "[7 8 3 ... 7 3 4] [7 8 3 ... 7 3 4]\n",
      "Accuracy: 0.8092926829268293\n",
      "Iteration: 450\n",
      "[7 8 3 ... 7 3 4] [7 8 3 ... 7 3 4]\n",
      "Accuracy: 0.8089024390243903\n",
      "Iteration: 460\n",
      "[7 8 3 ... 7 3 4] [7 8 3 ... 7 3 4]\n",
      "Accuracy: 0.8141463414634146\n",
      "Iteration: 470\n",
      "[7 8 3 ... 7 3 4] [7 8 3 ... 7 3 4]\n",
      "Accuracy: 0.8135853658536585\n",
      "Iteration: 480\n",
      "[7 8 3 ... 7 3 4] [7 8 3 ... 7 3 4]\n",
      "Accuracy: 0.8197560975609756\n",
      "Iteration: 490\n",
      "[7 8 3 ... 7 3 4] [7 8 3 ... 7 3 4]\n",
      "Accuracy: 0.8182195121951219\n",
      "Iteration: 500\n",
      "[7 8 3 ... 7 3 4] [7 8 3 ... 7 3 4]\n",
      "Accuracy: 0.8246585365853658\n",
      "Iteration: 510\n",
      "[7 8 3 ... 7 3 4] [7 8 3 ... 7 3 4]\n",
      "Accuracy: 0.8216097560975609\n",
      "Iteration: 520\n",
      "[7 8 3 ... 7 3 4] [7 8 3 ... 7 3 4]\n",
      "Accuracy: 0.8279268292682926\n",
      "Iteration: 530\n",
      "[7 8 3 ... 7 3 4] [7 8 3 ... 7 3 4]\n",
      "Accuracy: 0.8250975609756097\n",
      "Iteration: 540\n",
      "[7 8 3 ... 7 3 4] [7 8 3 ... 7 3 4]\n",
      "Accuracy: 0.8301219512195122\n",
      "Iteration: 550\n",
      "[7 8 3 ... 7 3 4] [7 8 3 ... 7 3 4]\n",
      "Accuracy: 0.8279268292682926\n",
      "Iteration: 560\n",
      "[7 8 3 ... 7 3 4] [7 8 3 ... 7 3 4]\n",
      "Accuracy: 0.832\n",
      "Iteration: 570\n",
      "[7 8 3 ... 7 3 4] [7 8 3 ... 7 3 4]\n",
      "Accuracy: 0.8309024390243902\n",
      "Iteration: 580\n",
      "[7 8 3 ... 7 3 4] [7 8 3 ... 7 3 4]\n",
      "Accuracy: 0.8332682926829268\n",
      "Iteration: 590\n",
      "[7 8 3 ... 7 3 4] [7 8 3 ... 7 3 4]\n",
      "Accuracy: 0.8331219512195122\n",
      "Iteration: 600\n",
      "[7 8 3 ... 7 3 4] [7 8 3 ... 7 3 4]\n",
      "Accuracy: 0.8350243902439024\n",
      "Iteration: 610\n",
      "[7 8 3 ... 7 3 4] [7 8 3 ... 7 3 4]\n",
      "Accuracy: 0.8356829268292683\n",
      "Iteration: 620\n",
      "[7 8 3 ... 7 3 4] [7 8 3 ... 7 3 4]\n",
      "Accuracy: 0.8366829268292683\n",
      "Iteration: 630\n",
      "[7 8 3 ... 7 3 4] [7 8 3 ... 7 3 4]\n",
      "Accuracy: 0.8373170731707317\n",
      "Iteration: 640\n",
      "[7 8 3 ... 7 3 4] [7 8 3 ... 7 3 4]\n",
      "Accuracy: 0.8388048780487805\n",
      "Iteration: 650\n",
      "[7 8 3 ... 7 3 4] [7 8 3 ... 7 3 4]\n",
      "Accuracy: 0.8395365853658536\n",
      "Iteration: 660\n",
      "[7 8 3 ... 7 3 4] [7 8 3 ... 7 3 4]\n",
      "Accuracy: 0.8405853658536585\n",
      "Iteration: 670\n",
      "[7 8 3 ... 7 3 4] [7 8 3 ... 7 3 4]\n",
      "Accuracy: 0.8415365853658536\n",
      "Iteration: 680\n",
      "[7 8 3 ... 7 3 4] [7 8 3 ... 7 3 4]\n",
      "Accuracy: 0.8422682926829268\n",
      "Iteration: 690\n",
      "[7 8 3 ... 7 3 4] [7 8 3 ... 7 3 4]\n",
      "Accuracy: 0.8433414634146341\n",
      "Iteration: 700\n",
      "[7 8 3 ... 7 3 4] [7 8 3 ... 7 3 4]\n",
      "Accuracy: 0.8439024390243902\n",
      "Iteration: 710\n",
      "[7 8 3 ... 7 3 4] [7 8 3 ... 7 3 4]\n",
      "Accuracy: 0.8445365853658536\n",
      "Iteration: 720\n",
      "[7 8 3 ... 7 3 4] [7 8 3 ... 7 3 4]\n",
      "Accuracy: 0.8452926829268292\n",
      "Iteration: 730\n",
      "[7 8 3 ... 7 3 4] [7 8 3 ... 7 3 4]\n",
      "Accuracy: 0.8460975609756097\n",
      "Iteration: 740\n",
      "[7 8 3 ... 7 3 4] [7 8 3 ... 7 3 4]\n",
      "Accuracy: 0.8466585365853658\n",
      "Iteration: 750\n",
      "[7 8 3 ... 7 3 4] [7 8 3 ... 7 3 4]\n",
      "Accuracy: 0.8473414634146341\n",
      "Iteration: 760\n",
      "[7 8 3 ... 7 3 4] [7 8 3 ... 7 3 4]\n",
      "Accuracy: 0.8480487804878049\n",
      "Iteration: 770\n",
      "[7 8 3 ... 7 3 4] [7 8 3 ... 7 3 4]\n",
      "Accuracy: 0.8485853658536585\n",
      "Iteration: 780\n",
      "[7 8 3 ... 7 3 4] [7 8 3 ... 7 3 4]\n",
      "Accuracy: 0.8491951219512195\n",
      "Iteration: 790\n",
      "[7 8 3 ... 7 3 4] [7 8 3 ... 7 3 4]\n",
      "Accuracy: 0.8497073170731707\n",
      "Iteration: 800\n",
      "[7 8 3 ... 7 3 4] [7 8 3 ... 7 3 4]\n",
      "Accuracy: 0.8501219512195122\n",
      "Iteration: 810\n",
      "[7 8 3 ... 7 3 4] [7 8 3 ... 7 3 4]\n",
      "Accuracy: 0.8504390243902439\n",
      "Iteration: 820\n",
      "[7 8 3 ... 7 3 4] [7 8 3 ... 7 3 4]\n",
      "Accuracy: 0.8513414634146341\n",
      "Iteration: 830\n",
      "[7 8 3 ... 7 3 4] [7 8 3 ... 7 3 4]\n",
      "Accuracy: 0.8520731707317073\n",
      "Iteration: 840\n",
      "[7 8 3 ... 7 3 4] [7 8 3 ... 7 3 4]\n",
      "Accuracy: 0.8522439024390244\n",
      "Iteration: 850\n",
      "[7 8 3 ... 7 3 4] [7 8 3 ... 7 3 4]\n",
      "Accuracy: 0.8528048780487805\n",
      "Iteration: 860\n",
      "[7 8 3 ... 7 3 4] [7 8 3 ... 7 3 4]\n",
      "Accuracy: 0.8532682926829268\n",
      "Iteration: 870\n",
      "[7 8 3 ... 7 3 4] [7 8 3 ... 7 3 4]\n",
      "Accuracy: 0.8538780487804878\n",
      "Iteration: 880\n",
      "[7 8 3 ... 7 3 4] [7 8 3 ... 7 3 4]\n",
      "Accuracy: 0.8542682926829268\n",
      "Iteration: 890\n",
      "[7 8 3 ... 7 3 4] [7 8 3 ... 7 3 4]\n",
      "Accuracy: 0.854609756097561\n",
      "Iteration: 900\n",
      "[7 8 3 ... 7 3 4] [7 8 3 ... 7 3 4]\n",
      "Accuracy: 0.8550243902439024\n",
      "Iteration: 910\n",
      "[7 8 3 ... 7 3 4] [7 8 3 ... 7 3 4]\n",
      "Accuracy: 0.8555365853658536\n",
      "Iteration: 920\n",
      "[7 8 3 ... 7 3 4] [7 8 3 ... 7 3 4]\n",
      "Accuracy: 0.8560487804878049\n",
      "Iteration: 930\n",
      "[7 8 3 ... 7 3 4] [7 8 3 ... 7 3 4]\n",
      "Accuracy: 0.8564390243902439\n",
      "Iteration: 940\n",
      "[7 8 3 ... 7 3 4] [7 8 3 ... 7 3 4]\n",
      "Accuracy: 0.8568536585365853\n",
      "Iteration: 950\n",
      "[7 8 3 ... 7 3 4] [7 8 3 ... 7 3 4]\n",
      "Accuracy: 0.857390243902439\n",
      "Iteration: 960\n",
      "[7 8 3 ... 7 3 4] [7 8 3 ... 7 3 4]\n",
      "Accuracy: 0.8579756097560975\n",
      "Iteration: 970\n",
      "[7 8 3 ... 7 3 4] [7 8 3 ... 7 3 4]\n",
      "Accuracy: 0.858390243902439\n",
      "Iteration: 980\n",
      "[7 8 3 ... 7 3 4] [7 8 3 ... 7 3 4]\n",
      "Accuracy: 0.8588048780487805\n",
      "Iteration: 990\n",
      "[7 8 3 ... 7 3 4] [7 8 3 ... 7 3 4]\n",
      "Accuracy: 0.8590243902439024\n"
     ]
    }
   ],
   "source": [
    "w1, b1, w2, b2 = gradient_descent(X_train, Y_train, 0.05, 1000)"
   ],
   "metadata": {
    "collapsed": false,
    "pycharm": {
     "name": "#%%\n"
    }
   }
  },
  {
   "cell_type": "code",
   "execution_count": 7,
   "outputs": [],
   "source": [
    "def make_predictions(x, w1, b1, w2, b2):\n",
    "    _, _, _, A2 = forward_prop(x, w1, b1, w2, b2)\n",
    "    predictions = get_predictions(A2)\n",
    "    return predictions\n",
    "\n",
    "def test_prediction(image, label, w1, b1, w2, b2):\n",
    "    current_image = image\n",
    "    prediction = make_predictions(image, w1, b1, w2, b2)\n",
    "    label = label\n",
    "    print(\"Prediction: \", prediction)\n",
    "    print(\"Label: \", label)\n",
    "\n",
    "    current_image = current_image.reshape((28, 28)) * 255\n",
    "    plt.gray()\n",
    "    plt.imshow(current_image, interpolation='nearest')\n",
    "    plt.show()"
   ],
   "metadata": {
    "collapsed": false,
    "pycharm": {
     "name": "#%%\n"
    }
   }
  },
  {
   "cell_type": "code",
   "execution_count": 8,
   "outputs": [
    {
     "name": "stdout",
     "output_type": "stream",
     "text": [
      "Prediction:  [7]\n",
      "Label:  7\n"
     ]
    },
    {
     "data": {
      "text/plain": "<Figure size 640x480 with 1 Axes>",
      "image/png": "[encoded data removed]"
     },
     "metadata": {},
     "output_type": "display_data"
    },
    {
     "name": "stdout",
     "output_type": "stream",
     "text": [
      "Prediction:  [8]\n",
      "Label:  8\n"
     ]
    },
    {
     "data": {
      "text/plain": "<Figure size 640x480 with 1 Axes>",
      "image/png": "[encoded data removed]"
     },
     "metadata": {},
     "output_type": "display_data"
    },
    {
     "name": "stdout",
     "output_type": "stream",
     "text": [
      "Prediction:  [3]\n",
      "Label:  3\n"
     ]
    },
    {
     "data": {
      "text/plain": "<Figure size 640x480 with 1 Axes>",
      "image/png": "[encoded data removed]"
     },
     "metadata": {},
     "output_type": "display_data"
    },
    {
     "name": "stdout",
     "output_type": "stream",
     "text": [
      "Prediction:  [8]\n",
      "Label:  8\n"
     ]
    },
    {
     "data": {
      "text/plain": "<Figure size 640x480 with 1 Axes>",
      "image/png": "[encoded data removed]"
     },
     "metadata": {},
     "output_type": "display_data"
    }
   ],
   "source": [
    "test_prediction(X_train[:, 0, None], Y_train[0], w1, b1, w2, b2)\n",
    "test_prediction(X_train[:, 1, None], Y_train[1], w1, b1, w2, b2)\n",
    "test_prediction(X_train[:, 2, None], Y_train[2], w1, b1, w2, b2)\n",
    "test_prediction(X_train[:, 3, None], Y_train[3], w1, b1, w2, b2)"
   ],
   "metadata": {
    "collapsed": false,
    "pycharm": {
     "name": "#%%\n"
    }
   }
  },
  {
   "cell_type": "code",
   "execution_count": 10,
   "outputs": [
    {
     "name": "stdout",
     "output_type": "stream",
     "text": [
      "[7 8 2 6 3 5 4 9 4 4 6 7 4 6 5 8 5 8 2 5 9 4 3 0 7 5 0 0 1 7 6 5 9 5 8 2 3\n",
      " 8 9 6 8 1 5 6 2 9 7 9 2 3 8 3 7 3 2 6 4 5 0 3 2 5 5 1 5 0 9 8 3 8 1 9 8 3\n",
      " 0 7 5 2 7 6 0 0 4 2 0 0 9 8 7 1 7 5 3 2 4 1 1 1 7 6 5 5 8 1 0 0 6 9 3 5 9\n",
      " 9 8 2 0 0 7 7 0 1 6 5 8 4 9 9 0 7 3 6 1 7 0 2 1 2 1 3 0 1 3 0 1 4 8 0 3 4\n",
      " 8 1 4 4 8 1 5 4 7 5 2 2 8 1 1 4 8 1 7 7 8 5 5 1 2 9 5 7 7 7 7 4 8 2 4 0 2\n",
      " 0 8 0 0 6 1 5 8 2 3 8 0 7 9 4 2 9 8 4 7 6 7 3 4 6 4 3 6 1 3 8 0 7 2 4 5 8\n",
      " 5 0 4 0 7 9 3 9 5 3 3 1 6 0 4 0 3 9 6 5 7 1 2 5 7 2 6 8 2 0 1 1 0 2 2 6 4\n",
      " 6 9 9 9 0 7 1 5 3 3 5 0 1 4 4 9 4 7 3 7 2 7 5 4 1 1 6 2 2 6 1 4 7 7 6 4 0\n",
      " 5 2 0 0 9 7 9 2 4 4 4 3 5 9 6 2 3 1 8 6 8 7 8 8 2 7 8 3 3 3 5 2 6 3 7 2 8\n",
      " 9 7 8 9 8 6 9 6 8 8 2 1 0 6 4 8 1 1 8 5 3 8 4 3 1 3 8 9 1 4 2 8 2 6 1 6 1\n",
      " 3 8 1 2 5 7 5 8 1 0 3 3 3 8 1 0 3 7 7 5 7 4 1 8 2 5 5 8 8 9 6 8 8 6 0 3 9\n",
      " 1 4 3 4 9 1 8 1 4 8 9 6 5 9 1 3 9 1 1 3 9 8 7 2 3 8 5 6 2 6 2 3 9 0 5 4 1\n",
      " 3 6 9 7 0 2 6 8 9 9 8 5 9 9 8 5 3 7 7 9 8 4 9 4 8 4 0 7 1 8 7 0 8 2 3 3 2\n",
      " 7 4 0 8 6 2 1 7 2 4 8 0 2 6 4 5 0 1 6 5 4 7 6 0 8 2 4 1 6 9 8 2 0 1 7 2 3\n",
      " 5 8 4 5 7 0 4 0 6 9 7 9 4 9 2 6 4 3 1 1 2 1 3 6 0 0 4 1 9 0 2 0 9 9 2 4 9\n",
      " 4 8 9 0 8 6 9 8 8 8 5 7 5 9 8 0 4 0 6 7 2 1 8 0 7 4 6 2 0 6 2 8 7 4 2 2 8\n",
      " 6 8 7 4 0 3 4 8 4 2 5 8 8 6 7 7 0 5 9 3 5 7 6 6 3 5 2 0 8 3 5 5 2 4 4 9 2\n",
      " 3 4 5 8 1 0 7 7 7 9 4 2 0 3 5 1 6 7 1 4 3 6 1 3 8 3 8 4 1 1 3 9 8 4 5 0 1\n",
      " 0 2 9 7 0 5 8 7 3 9 3 4 1 0 6 8 6 3 5 3 7 3 1 9 5 0 3 7 1 1 9 1 4 2 7 3 9\n",
      " 1 9 9 9 8 5 9 0 2 5 5 8 7 6 9 6 2 5 0 7 5 9 5 4 5 8 9 2 9 5 6 1 7 2 6 0 0\n",
      " 7 8 1 5 8 7 8 9 1 8 5 8 5 7 7 9 5 4 2 1 0 5 3 0 0 9 4 3 6 3 3 4 8 8 3 1 6\n",
      " 8 2 7 0 0 8 6 4 1 7 1 9 3 3 7 9 5 6 0 1 2 6 5 4 8 1 1 0 1 8 1 5 1 4 0 6 7\n",
      " 8 3 6 6 2 7 1 9 3 8 5 0 0 9 8 0 7 7 6 8 3 4 1 2 2 9 1 0 5 0 0 0 1 9 7 2 9\n",
      " 8 2 4 5 9 0 5 1 9 5 0 8 0 5 0 4 4 1 8 0 4 8 5 7 9 3 7 0 9 1 7 3 3 6 0 1 8\n",
      " 5 3 1 9 1 4 7 2 4 0 9 5 6 0 6 8 1 3 4 7 3 9 8 2 7 7 2 1 0 9 3 0 2 1 4 6 0\n",
      " 6 6 1 0 4 4 2 6 6 3 1 9 7 6 9 9 1 0 6 2 8 6 7 7 4 6 1 0 3 2 8 2 1 2 6 0 9\n",
      " 1 6 7 5 4 7 8 8 0 0 4 2 4 0 9 3 0 0 1 5 8 6 4 5 6 8 1 8 0 3 4 7 9 5 2 0 6\n",
      " 3] [7 0 2 6 3 5 4 5 4 4 6 7 9 6 5 8 5 8 2 7 9 4 3 0 7 5 0 0 1 7 6 5 9 5 4 2 3\n",
      " 8 9 6 3 1 5 5 2 5 7 9 2 8 8 3 7 3 6 6 4 5 0 3 8 5 5 1 4 7 4 6 3 8 1 9 8 5\n",
      " 0 7 5 2 7 6 0 0 4 9 0 0 9 8 7 1 1 5 3 3 4 1 1 1 7 3 5 5 8 1 0 0 6 9 3 5 8\n",
      " 7 8 2 0 0 7 7 0 1 6 5 8 4 9 9 0 7 3 6 1 7 0 3 1 2 1 3 0 1 8 0 1 7 8 0 3 4\n",
      " 8 1 4 5 8 7 5 4 7 5 2 3 6 1 1 7 8 1 7 7 8 5 5 1 2 9 5 7 7 7 7 4 5 2 5 0 1\n",
      " 0 3 0 0 6 1 5 8 2 3 8 0 7 2 4 2 9 8 4 7 6 7 5 9 6 9 3 6 1 3 2 0 7 8 4 5 8\n",
      " 0 0 4 0 7 9 3 9 8 3 2 1 6 0 4 0 3 9 6 5 7 1 2 5 7 2 6 8 2 2 1 1 0 2 2 6 4\n",
      " 6 9 9 9 0 7 1 5 3 3 5 0 1 6 9 9 4 5 3 7 2 7 5 4 1 1 6 2 2 6 1 4 7 7 6 4 0\n",
      " 5 2 0 0 9 4 9 2 4 4 4 3 5 4 6 2 3 1 8 6 8 7 8 6 0 7 8 3 3 3 5 2 6 3 5 2 2\n",
      " 5 7 5 9 8 6 9 0 8 8 7 1 0 6 4 4 1 1 8 5 3 0 4 3 1 3 8 9 1 8 6 7 2 6 1 6 1\n",
      " 3 8 1 2 5 7 5 8 1 0 5 3 3 2 1 0 3 7 7 5 3 4 1 8 2 5 5 9 8 9 6 1 8 6 0 3 4\n",
      " 1 5 3 4 7 1 8 1 4 8 9 6 5 5 1 3 9 1 1 3 7 5 7 2 3 8 5 6 2 6 2 3 9 0 5 4 1\n",
      " 3 6 5 7 0 0 6 9 4 9 8 5 9 4 8 5 3 2 7 9 8 4 9 4 8 4 0 7 1 3 7 0 8 2 3 3 8\n",
      " 7 4 0 5 6 2 1 0 2 4 8 0 2 6 4 5 0 3 6 5 4 7 6 0 8 2 4 1 6 9 5 2 0 1 7 2 3\n",
      " 5 8 4 5 7 0 4 0 6 9 7 9 4 9 2 6 4 3 1 1 2 1 3 6 0 2 4 1 3 0 2 2 9 9 7 4 9\n",
      " 4 9 9 0 2 6 4 5 8 1 5 7 5 9 8 0 4 0 6 9 6 1 8 0 7 4 6 2 0 6 3 5 7 9 2 2 8\n",
      " 6 8 7 4 0 3 9 8 4 6 5 8 8 6 7 7 0 5 9 3 5 7 6 6 3 3 2 0 8 3 5 5 2 4 4 9 8\n",
      " 5 4 5 8 1 3 7 7 7 9 9 2 0 3 5 1 6 7 1 4 3 6 1 3 8 3 3 4 1 1 3 9 8 4 5 0 1\n",
      " 0 2 9 7 0 4 8 7 8 9 3 4 1 0 6 8 6 3 5 3 7 3 1 9 6 0 3 7 1 1 9 1 4 6 7 3 9\n",
      " 1 9 9 7 8 3 9 0 2 5 5 8 7 6 9 6 2 5 0 7 5 9 2 6 5 3 9 2 9 3 6 1 3 2 6 0 0\n",
      " 7 8 1 5 8 7 8 9 1 8 5 8 8 7 7 9 5 4 2 1 0 6 3 0 0 9 4 3 6 3 3 4 8 8 5 1 6\n",
      " 8 2 7 0 0 8 6 4 1 7 1 9 3 3 7 8 5 6 0 1 6 2 5 4 8 1 1 0 1 8 1 0 1 4 0 6 7\n",
      " 8 3 6 6 2 7 1 4 3 9 9 0 0 9 8 0 7 7 6 8 3 4 2 2 2 9 1 0 5 0 0 0 1 8 7 2 9\n",
      " 8 2 4 5 9 0 9 1 9 5 0 8 0 5 3 4 4 1 8 0 4 9 5 7 9 3 7 0 4 1 9 3 3 6 0 1 5\n",
      " 5 3 1 9 1 4 7 2 4 9 9 5 8 0 6 5 1 1 4 7 3 9 8 2 7 7 2 1 0 9 3 0 2 1 4 6 4\n",
      " 6 8 1 0 4 4 2 6 6 3 5 9 3 6 9 9 1 0 6 5 8 6 7 7 4 6 1 0 3 2 8 2 1 2 6 0 9\n",
      " 1 6 7 3 4 7 8 8 0 0 9 2 4 0 9 3 0 0 1 5 8 6 4 5 6 5 1 8 0 3 4 7 4 5 2 0 6\n",
      " 5]\n"
     ]
    },
    {
     "data": {
      "text/plain": "0.85"
     },
     "execution_count": 10,
     "metadata": {},
     "output_type": "execute_result"
    }
   ],
   "source": [
    "dev_predictions = make_predictions(X_test, w1, b1, w2, b2)\n",
    "get_accuracy(dev_predictions, Y_test)"
   ],
   "metadata": {
    "collapsed": false,
    "pycharm": {
     "name": "#%%\n"
    }
   }
  },
  {
   "cell_type": "code",
   "execution_count": 9,
   "outputs": [],
   "source": [],
   "metadata": {
    "collapsed": false,
    "pycharm": {
     "name": "#%%\n"
    }
   }
  }
 ],
 "metadata": {
  "kernelspec": {
   "display_name": "Python 3",
   "language": "python",
   "name": "python3"
  },
  "language_info": {
   "codemirror_mode": {
    "name": "ipython",
    "version": 2
   },
   "file_extension": ".py",
   "mimetype": "text/x-python",
   "name": "python",
   "nbconvert_exporter": "python",
   "pygments_lexer": "ipython2",
   "version": "2.7.6"
  }
 },
 "nbformat": 4,
 "nbformat_minor": 0
}